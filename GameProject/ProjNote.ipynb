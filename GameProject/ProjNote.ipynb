{
 "cells": [
  {
   "cell_type": "markdown",
   "id": "81e479eb",
   "metadata": {},
   "source": [
    "# Проверка результатов"
   ]
  },
  {
   "cell_type": "markdown",
   "id": "437840a5",
   "metadata": {},
   "source": [
    "## Шаблонный вариант - Случайное угадывание"
   ]
  },
  {
   "cell_type": "code",
   "execution_count": 1,
   "id": "45030f08",
   "metadata": {
    "scrolled": false
   },
   "outputs": [],
   "source": [
    "from game_v2 import *"
   ]
  },
  {
   "cell_type": "code",
   "execution_count": 6,
   "id": "7ca93e82",
   "metadata": {},
   "outputs": [
    {
     "name": "stdout",
     "output_type": "stream",
     "text": [
      "Ваш алгоритм угадывает число в среднем за:103 попыток\n"
     ]
    },
    {
     "data": {
      "text/plain": [
       "103"
      ]
     },
     "execution_count": 6,
     "metadata": {},
     "output_type": "execute_result"
    }
   ],
   "source": [
    "score_game(random_predict)"
   ]
  },
  {
   "cell_type": "markdown",
   "id": "f1a0f550",
   "metadata": {},
   "source": [
    "## Измененный вариант - Быстрое угадывание"
   ]
  },
  {
   "cell_type": "code",
   "execution_count": 7,
   "id": "a7068b37",
   "metadata": {},
   "outputs": [],
   "source": [
    "from game_v3 import *"
   ]
  },
  {
   "cell_type": "code",
   "execution_count": 8,
   "id": "47bde31e",
   "metadata": {},
   "outputs": [
    {
     "name": "stdout",
     "output_type": "stream",
     "text": [
      "Алгоритм угадывает число в среднем за 5 попыток.\n",
      "Максимальное число попыток: 7.\n"
     ]
    },
    {
     "data": {
      "text/plain": [
       "5"
      ]
     },
     "execution_count": 8,
     "metadata": {},
     "output_type": "execute_result"
    }
   ],
   "source": [
    "score_game(quickly_predict)"
   ]
  },
  {
   "cell_type": "markdown",
   "id": "85d5fa68",
   "metadata": {},
   "source": [
    "## Интерпритация результатов"
   ]
  },
  {
   "cell_type": "markdown",
   "id": "a5ec0f7e",
   "metadata": {},
   "source": [
    "В результате модификации модификации алгоритма удалось снизить среднее число попыток до 5, что соответствует условиям ТЗ.\n",
    "Максимальное значение количества попыток в расчете на 1000 загаданных чисел составляет 7. Можно обосновать, что быстрее вычислить произвольное число в отрезке от 1 до 100 в заданных условиях не получится."
   ]
  },
  {
   "cell_type": "code",
   "execution_count": null,
   "id": "4a4d4c06",
   "metadata": {},
   "outputs": [],
   "source": []
  }
 ],
 "metadata": {
  "kernelspec": {
   "display_name": "Python 3 (ipykernel)",
   "language": "python",
   "name": "python3"
  },
  "language_info": {
   "codemirror_mode": {
    "name": "ipython",
    "version": 3
   },
   "file_extension": ".py",
   "mimetype": "text/x-python",
   "name": "python",
   "nbconvert_exporter": "python",
   "pygments_lexer": "ipython3",
   "version": "3.8.11"
  }
 },
 "nbformat": 4,
 "nbformat_minor": 5
}
